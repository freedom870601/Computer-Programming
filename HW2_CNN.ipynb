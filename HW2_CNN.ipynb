{
  "nbformat": 4,
  "nbformat_minor": 0,
  "metadata": {
    "kernelspec": {
      "name": "python3",
      "display_name": "Python 3"
    },
    "language_info": {
      "codemirror_mode": {
        "name": "ipython",
        "version": 2
      },
      "file_extension": ".py",
      "mimetype": "text/x-python",
      "name": "python",
      "nbconvert_exporter": "python",
      "pygments_lexer": "ipython2",
      "version": "2.7.15"
    },
    "colab": {
      "name": "HW2-CNN.ipynb",
      "provenance": [],
      "collapsed_sections": []
    },
    "accelerator": "GPU"
  },
  "cells": [
    {
      "cell_type": "code",
      "metadata": {
        "id": "bBQ6F6FzC04c",
        "colab_type": "code",
        "outputId": "7fb4c1e5-7012-4ad6-e80c-0c4351548666",
        "colab": {
          "base_uri": "https://localhost:8080/",
          "height": 34
        }
      },
      "source": [
        "% tensorflow_version 2.x"
      ],
      "execution_count": 0,
      "outputs": [
        {
          "output_type": "stream",
          "text": [
            "TensorFlow 2.x selected.\n"
          ],
          "name": "stdout"
        }
      ]
    },
    {
      "cell_type": "code",
      "metadata": {
        "id": "DP58JqfuCqAG",
        "colab_type": "code",
        "colab": {}
      },
      "source": [
        "%matplotlib inline\n",
        "\n",
        "import numpy as np\n",
        "import matplotlib.pyplot as plt\n",
        "import tensorflow as tf\n",
        "import os"
      ],
      "execution_count": 0,
      "outputs": []
    },
    {
      "cell_type": "code",
      "metadata": {
        "id": "-LySC8ytP4br",
        "colab_type": "code",
        "outputId": "bd2f589a-9c0a-4901-e90b-a0be3eea24cb",
        "colab": {
          "base_uri": "https://localhost:8080/",
          "height": 731
        }
      },
      "source": [
        "print(\"Tensorflow version \" + tf.__version__)\n",
        "\n",
        "try:\n",
        "  tpu = tf.distribute.cluster_resolver.TPUClusterResolver()  # TPU detection\n",
        "  print('Running on TPU ', tpu.cluster_spec().as_dict()['worker'])\n",
        "except ValueError:\n",
        "  raise BaseException('ERROR: Not connected to a TPU runtime; please see the previous cell in this notebook for instructions!')\n",
        "\n",
        "tf.config.experimental_connect_to_cluster(tpu)\n",
        "tf.tpu.experimental.initialize_tpu_system(tpu)\n",
        "tpu_strategy = tf.distribute.experimental.TPUStrategy(tpu)"
      ],
      "execution_count": 0,
      "outputs": [
        {
          "output_type": "stream",
          "text": [
            "Tensorflow version 2.2.0-rc2\n",
            "Running on TPU  ['10.105.51.2:8470']\n",
            "INFO:tensorflow:Initializing the TPU system: grpc://10.105.51.2:8470\n"
          ],
          "name": "stdout"
        },
        {
          "output_type": "stream",
          "text": [
            "INFO:tensorflow:Initializing the TPU system: grpc://10.105.51.2:8470\n"
          ],
          "name": "stderr"
        },
        {
          "output_type": "stream",
          "text": [
            "INFO:tensorflow:Clearing out eager caches\n"
          ],
          "name": "stdout"
        },
        {
          "output_type": "stream",
          "text": [
            "INFO:tensorflow:Clearing out eager caches\n"
          ],
          "name": "stderr"
        },
        {
          "output_type": "stream",
          "text": [
            "INFO:tensorflow:Finished initializing TPU system.\n"
          ],
          "name": "stdout"
        },
        {
          "output_type": "stream",
          "text": [
            "INFO:tensorflow:Finished initializing TPU system.\n"
          ],
          "name": "stderr"
        },
        {
          "output_type": "stream",
          "text": [
            "INFO:tensorflow:Found TPU system:\n"
          ],
          "name": "stdout"
        },
        {
          "output_type": "stream",
          "text": [
            "INFO:tensorflow:Found TPU system:\n"
          ],
          "name": "stderr"
        },
        {
          "output_type": "stream",
          "text": [
            "INFO:tensorflow:*** Num TPU Cores: 8\n"
          ],
          "name": "stdout"
        },
        {
          "output_type": "stream",
          "text": [
            "INFO:tensorflow:*** Num TPU Cores: 8\n"
          ],
          "name": "stderr"
        },
        {
          "output_type": "stream",
          "text": [
            "INFO:tensorflow:*** Num TPU Workers: 1\n"
          ],
          "name": "stdout"
        },
        {
          "output_type": "stream",
          "text": [
            "INFO:tensorflow:*** Num TPU Workers: 1\n"
          ],
          "name": "stderr"
        },
        {
          "output_type": "stream",
          "text": [
            "INFO:tensorflow:*** Num TPU Cores Per Worker: 8\n"
          ],
          "name": "stdout"
        },
        {
          "output_type": "stream",
          "text": [
            "INFO:tensorflow:*** Num TPU Cores Per Worker: 8\n"
          ],
          "name": "stderr"
        },
        {
          "output_type": "stream",
          "text": [
            "INFO:tensorflow:*** Available Device: _DeviceAttributes(/job:localhost/replica:0/task:0/device:CPU:0, CPU, 0, 0)\n"
          ],
          "name": "stdout"
        },
        {
          "output_type": "stream",
          "text": [
            "INFO:tensorflow:*** Available Device: _DeviceAttributes(/job:localhost/replica:0/task:0/device:CPU:0, CPU, 0, 0)\n"
          ],
          "name": "stderr"
        },
        {
          "output_type": "stream",
          "text": [
            "INFO:tensorflow:*** Available Device: _DeviceAttributes(/job:localhost/replica:0/task:0/device:XLA_CPU:0, XLA_CPU, 0, 0)\n"
          ],
          "name": "stdout"
        },
        {
          "output_type": "stream",
          "text": [
            "INFO:tensorflow:*** Available Device: _DeviceAttributes(/job:localhost/replica:0/task:0/device:XLA_CPU:0, XLA_CPU, 0, 0)\n"
          ],
          "name": "stderr"
        },
        {
          "output_type": "stream",
          "text": [
            "INFO:tensorflow:*** Available Device: _DeviceAttributes(/job:worker/replica:0/task:0/device:CPU:0, CPU, 0, 0)\n"
          ],
          "name": "stdout"
        },
        {
          "output_type": "stream",
          "text": [
            "INFO:tensorflow:*** Available Device: _DeviceAttributes(/job:worker/replica:0/task:0/device:CPU:0, CPU, 0, 0)\n"
          ],
          "name": "stderr"
        },
        {
          "output_type": "stream",
          "text": [
            "INFO:tensorflow:*** Available Device: _DeviceAttributes(/job:worker/replica:0/task:0/device:TPU:0, TPU, 0, 0)\n"
          ],
          "name": "stdout"
        },
        {
          "output_type": "stream",
          "text": [
            "INFO:tensorflow:*** Available Device: _DeviceAttributes(/job:worker/replica:0/task:0/device:TPU:0, TPU, 0, 0)\n"
          ],
          "name": "stderr"
        },
        {
          "output_type": "stream",
          "text": [
            "INFO:tensorflow:*** Available Device: _DeviceAttributes(/job:worker/replica:0/task:0/device:TPU:1, TPU, 0, 0)\n"
          ],
          "name": "stdout"
        },
        {
          "output_type": "stream",
          "text": [
            "INFO:tensorflow:*** Available Device: _DeviceAttributes(/job:worker/replica:0/task:0/device:TPU:1, TPU, 0, 0)\n"
          ],
          "name": "stderr"
        },
        {
          "output_type": "stream",
          "text": [
            "INFO:tensorflow:*** Available Device: _DeviceAttributes(/job:worker/replica:0/task:0/device:TPU:2, TPU, 0, 0)\n"
          ],
          "name": "stdout"
        },
        {
          "output_type": "stream",
          "text": [
            "INFO:tensorflow:*** Available Device: _DeviceAttributes(/job:worker/replica:0/task:0/device:TPU:2, TPU, 0, 0)\n"
          ],
          "name": "stderr"
        },
        {
          "output_type": "stream",
          "text": [
            "INFO:tensorflow:*** Available Device: _DeviceAttributes(/job:worker/replica:0/task:0/device:TPU:3, TPU, 0, 0)\n"
          ],
          "name": "stdout"
        },
        {
          "output_type": "stream",
          "text": [
            "INFO:tensorflow:*** Available Device: _DeviceAttributes(/job:worker/replica:0/task:0/device:TPU:3, TPU, 0, 0)\n"
          ],
          "name": "stderr"
        },
        {
          "output_type": "stream",
          "text": [
            "INFO:tensorflow:*** Available Device: _DeviceAttributes(/job:worker/replica:0/task:0/device:TPU:4, TPU, 0, 0)\n"
          ],
          "name": "stdout"
        },
        {
          "output_type": "stream",
          "text": [
            "INFO:tensorflow:*** Available Device: _DeviceAttributes(/job:worker/replica:0/task:0/device:TPU:4, TPU, 0, 0)\n"
          ],
          "name": "stderr"
        },
        {
          "output_type": "stream",
          "text": [
            "INFO:tensorflow:*** Available Device: _DeviceAttributes(/job:worker/replica:0/task:0/device:TPU:5, TPU, 0, 0)\n"
          ],
          "name": "stdout"
        },
        {
          "output_type": "stream",
          "text": [
            "INFO:tensorflow:*** Available Device: _DeviceAttributes(/job:worker/replica:0/task:0/device:TPU:5, TPU, 0, 0)\n"
          ],
          "name": "stderr"
        },
        {
          "output_type": "stream",
          "text": [
            "INFO:tensorflow:*** Available Device: _DeviceAttributes(/job:worker/replica:0/task:0/device:TPU:6, TPU, 0, 0)\n"
          ],
          "name": "stdout"
        },
        {
          "output_type": "stream",
          "text": [
            "INFO:tensorflow:*** Available Device: _DeviceAttributes(/job:worker/replica:0/task:0/device:TPU:6, TPU, 0, 0)\n"
          ],
          "name": "stderr"
        },
        {
          "output_type": "stream",
          "text": [
            "INFO:tensorflow:*** Available Device: _DeviceAttributes(/job:worker/replica:0/task:0/device:TPU:7, TPU, 0, 0)\n"
          ],
          "name": "stdout"
        },
        {
          "output_type": "stream",
          "text": [
            "INFO:tensorflow:*** Available Device: _DeviceAttributes(/job:worker/replica:0/task:0/device:TPU:7, TPU, 0, 0)\n"
          ],
          "name": "stderr"
        },
        {
          "output_type": "stream",
          "text": [
            "INFO:tensorflow:*** Available Device: _DeviceAttributes(/job:worker/replica:0/task:0/device:TPU_SYSTEM:0, TPU_SYSTEM, 0, 0)\n"
          ],
          "name": "stdout"
        },
        {
          "output_type": "stream",
          "text": [
            "INFO:tensorflow:*** Available Device: _DeviceAttributes(/job:worker/replica:0/task:0/device:TPU_SYSTEM:0, TPU_SYSTEM, 0, 0)\n"
          ],
          "name": "stderr"
        },
        {
          "output_type": "stream",
          "text": [
            "INFO:tensorflow:*** Available Device: _DeviceAttributes(/job:worker/replica:0/task:0/device:XLA_CPU:0, XLA_CPU, 0, 0)\n"
          ],
          "name": "stdout"
        },
        {
          "output_type": "stream",
          "text": [
            "INFO:tensorflow:*** Available Device: _DeviceAttributes(/job:worker/replica:0/task:0/device:XLA_CPU:0, XLA_CPU, 0, 0)\n"
          ],
          "name": "stderr"
        }
      ]
    },
    {
      "cell_type": "markdown",
      "metadata": {
        "id": "s2lMcmwcCqAR",
        "colab_type": "text"
      },
      "source": [
        "### 1. 讀入 Fashion MNSIT 數據集"
      ]
    },
    {
      "cell_type": "code",
      "metadata": {
        "id": "zQrSKokaCqAT",
        "colab_type": "code",
        "colab": {}
      },
      "source": [
        "from tensorflow.keras.datasets import fashion_mnist"
      ],
      "execution_count": 0,
      "outputs": []
    },
    {
      "cell_type": "code",
      "metadata": {
        "id": "_P4kbSCFCqAc",
        "colab_type": "code",
        "outputId": "120f3e99-b3ab-4d54-ce3d-ee8feaf9c856",
        "colab": {
          "base_uri": "https://localhost:8080/",
          "height": 153
        }
      },
      "source": [
        "(x_train, y_train), (x_test, y_test) = fashion_mnist.load_data()"
      ],
      "execution_count": 0,
      "outputs": [
        {
          "output_type": "stream",
          "text": [
            "Downloading data from https://storage.googleapis.com/tensorflow/tf-keras-datasets/train-labels-idx1-ubyte.gz\n",
            "32768/29515 [=================================] - 0s 0us/step\n",
            "Downloading data from https://storage.googleapis.com/tensorflow/tf-keras-datasets/train-images-idx3-ubyte.gz\n",
            "26427392/26421880 [==============================] - 1s 0us/step\n",
            "Downloading data from https://storage.googleapis.com/tensorflow/tf-keras-datasets/t10k-labels-idx1-ubyte.gz\n",
            "8192/5148 [===============================================] - 0s 0us/step\n",
            "Downloading data from https://storage.googleapis.com/tensorflow/tf-keras-datasets/t10k-images-idx3-ubyte.gz\n",
            "4423680/4422102 [==============================] - 0s 0us/step\n"
          ],
          "name": "stdout"
        }
      ]
    },
    {
      "cell_type": "markdown",
      "metadata": {
        "id": "SU41EdGNCqAj",
        "colab_type": "text"
      },
      "source": [
        "### 2. 欣賞數據集內容"
      ]
    },
    {
      "cell_type": "code",
      "metadata": {
        "id": "ytb8UYCrCqAk",
        "colab_type": "code",
        "colab": {}
      },
      "source": [
        "class_names = ['T-shirt/top', 'Trouser', 'Pullover', 'Dress', 'Coat',\n",
        "               'Sandal', 'Shirt', 'Sneaker', 'Bag', 'Ankle boot']"
      ],
      "execution_count": 0,
      "outputs": []
    },
    {
      "cell_type": "code",
      "metadata": {
        "scrolled": true,
        "id": "3jeUAqemCqAp",
        "colab_type": "code",
        "outputId": "af03c4f0-677f-40a3-b939-0b988a3b70bc",
        "colab": {
          "base_uri": "https://localhost:8080/",
          "height": 282
        }
      },
      "source": [
        "n = 1234\n",
        "print('這是', class_names[y_train[n]])\n",
        "plt.imshow(x_train[n], cmap='Greys');"
      ],
      "execution_count": 0,
      "outputs": [
        {
          "output_type": "stream",
          "text": [
            "這是 Bag\n"
          ],
          "name": "stdout"
        },
        {
          "output_type": "display_data",
          "data": {
            "image/png": "[encoded data removed]",
            "text/plain": [
              "<Figure size 432x288 with 1 Axes>"
            ]
          },
          "metadata": {
            "tags": []
          }
        }
      ]
    },
    {
      "cell_type": "code",
      "metadata": {
        "id": "2J5FSX-7CqAu",
        "colab_type": "code",
        "outputId": "bcc15398-6ce6-48b7-9eb7-01e567e8f330",
        "colab": {
          "base_uri": "https://localhost:8080/",
          "height": 106
        }
      },
      "source": [
        "pick = np.random.choice(60000, 5, replace=False)\n",
        "\n",
        "for i in range(5):\n",
        "    n = pick[i]\n",
        "    ax = plt.subplot(151+i)\n",
        "    ax.set_xticks([])\n",
        "    ax.set_yticks([])\n",
        "    ax.set_title(class_names[y_train[n]], fontsize=10)\n",
        "    plt.imshow(x_train[n], cmap='Greys')"
      ],
      "execution_count": 0,
      "outputs": [
        {
          "output_type": "display_data",
          "data": {
            "image/png": "[encoded data removed]",
            "text/plain": [
              "<Figure size 432x288 with 5 Axes>"
            ]
          },
          "metadata": {
            "tags": []
          }
        }
      ]
    },
    {
      "cell_type": "markdown",
      "metadata": {
        "id": "1OTLIkaNCqA4",
        "colab_type": "text"
      },
      "source": [
        "### 3. 建構神經網路"
      ]
    },
    {
      "cell_type": "code",
      "metadata": {
        "id": "hgpGBo3fCqA5",
        "colab_type": "code",
        "colab": {}
      },
      "source": [
        "from tensorflow.keras.utils import to_categorical"
      ],
      "execution_count": 0,
      "outputs": []
    },
    {
      "cell_type": "code",
      "metadata": {
        "id": "mb7KqsKACqA_",
        "colab_type": "code",
        "outputId": "55dcbba6-f1da-47a4-dfcd-b0665a62d727",
        "colab": {
          "base_uri": "https://localhost:8080/",
          "height": 34
        }
      },
      "source": [
        "x_train.shape"
      ],
      "execution_count": 0,
      "outputs": [
        {
          "output_type": "execute_result",
          "data": {
            "text/plain": [
              "(60000, 28, 28)"
            ]
          },
          "metadata": {
            "tags": []
          },
          "execution_count": 12
        }
      ]
    },
    {
      "cell_type": "code",
      "metadata": {
        "id": "JuIZHlJtCqBF",
        "colab_type": "code",
        "outputId": "63f17401-02b6-44d2-dc1a-e26d2a50b4a4",
        "colab": {
          "base_uri": "https://localhost:8080/",
          "height": 34
        }
      },
      "source": [
        "x_test.shape"
      ],
      "execution_count": 0,
      "outputs": [
        {
          "output_type": "execute_result",
          "data": {
            "text/plain": [
              "(10000, 28, 28)"
            ]
          },
          "metadata": {
            "tags": []
          },
          "execution_count": 13
        }
      ]
    },
    {
      "cell_type": "code",
      "metadata": {
        "id": "dX96XPZ0CqBL",
        "colab_type": "code",
        "colab": {}
      },
      "source": [
        "x_train = x_train.reshape(60000, 28, 28, 1)/255\n",
        "x_test = x_test.reshape(10000, 28, 28, 1)/255"
      ],
      "execution_count": 0,
      "outputs": []
    },
    {
      "cell_type": "code",
      "metadata": {
        "id": "iyIvhkLCCqBQ",
        "colab_type": "code",
        "outputId": "358b28c3-68fb-432c-da87-ac8b14883278",
        "colab": {
          "base_uri": "https://localhost:8080/",
          "height": 34
        }
      },
      "source": [
        "len(set(y_train))"
      ],
      "execution_count": 0,
      "outputs": [
        {
          "output_type": "execute_result",
          "data": {
            "text/plain": [
              "10"
            ]
          },
          "metadata": {
            "tags": []
          },
          "execution_count": 15
        }
      ]
    },
    {
      "cell_type": "code",
      "metadata": {
        "id": "7f15rmFwCqBV",
        "colab_type": "code",
        "colab": {}
      },
      "source": [
        "y_train = to_categorical(y_train, 10)\n",
        "y_test = to_categorical(y_test, 10)"
      ],
      "execution_count": 0,
      "outputs": []
    },
    {
      "cell_type": "code",
      "metadata": {
        "id": "Ni16j5iZCqBb",
        "colab_type": "code",
        "colab": {}
      },
      "source": [
        "from tensorflow.keras.models import Sequential\n",
        "from tensorflow.keras.layers import Dense, Conv2D, MaxPool2D, Flatten, BatchNormalization, Dropout\n",
        "from tensorflow.keras.optimizers import SGD\n",
        "from tensorflow.keras.callbacks import EarlyStopping"
      ],
      "execution_count": 0,
      "outputs": []
    },
    {
      "cell_type": "code",
      "metadata": {
        "id": "tlL2VabDCqCH",
        "colab_type": "code",
        "colab": {}
      },
      "source": [
        "model = Sequential()\n",
        "\n",
        "model.add(BatchNormalization(input_shape=x_train.shape[1:]))\n",
        "\n",
        "model.add(Conv2D(16, (5, 5), padding = 'same', input_shape = (28, 28, 1), activation = 'relu'))\n",
        "\n",
        "model.add(MaxPool2D(pool_size = (2,2)))\n",
        "\n",
        "model.add(Dropout(0.25))\n",
        "\n",
        "model.add(BatchNormalization(input_shape=x_train.shape[1:]))\n",
        "\n",
        "model.add(Conv2D(32, (5, 5), padding = 'same', input_shape = (28, 28, 1), activation = 'relu'))\n",
        "\n",
        "model.add(MaxPool2D(pool_size = (2,2)))\n",
        "\n",
        "model.add(Dropout(0.25))\n",
        "\n",
        "model.add(BatchNormalization(input_shape=x_train.shape[1:]))\n",
        "\n",
        "model.add(Conv2D(64, (5, 5), padding = 'same', input_shape = (28, 28, 1), activation = 'relu'))\n",
        "\n",
        "model.add(MaxPool2D(pool_size = (2,2)))\n",
        "\n",
        "model.add(Flatten())\n",
        "\n",
        "model.add(Dense(128, activation='relu'))\n",
        "\n",
        "model.add(Dropout(0.5))\n",
        "\n",
        "model.add(Dense(10, activation='softmax'))\n",
        "\n",
        "model.compile(loss = 'categorical_crossentropy', optimizer = 'adam', metrics = ['accuracy'])"
      ],
      "execution_count": 0,
      "outputs": []
    },
    {
      "cell_type": "code",
      "metadata": {
        "id": "O1tME6-KQs6k",
        "colab_type": "code",
        "colab": {}
      },
      "source": [
        "with tpu_strategy.scope(): # creating the model in the TPUStrategy scope means we will train the model on the TPU\n",
        "  model_tpu = model"
      ],
      "execution_count": 0,
      "outputs": []
    },
    {
      "cell_type": "code",
      "metadata": {
        "id": "fh6ROeSqCqCL",
        "colab_type": "code",
        "outputId": "fc514fb4-309d-42ad-8fe4-f225f89d1cd6",
        "colab": {
          "base_uri": "https://localhost:8080/",
          "height": 1000
        }
      },
      "source": [
        "early_stopping = EarlyStopping(monitor='val_loss', patience=50, verbose=2)\n",
        "train_history = model_tpu.fit(x_train, y_train, batch_size = 50, epochs = 50, validation_split=0.1, callbacks=[early_stopping])"
      ],
      "execution_count": 0,
      "outputs": [
        {
          "output_type": "stream",
          "text": [
            "Epoch 1/50\n",
            "1080/1080 [==============================] - 19s 18ms/step - loss: 0.6261 - accuracy: 0.7741 - val_loss: 0.3706 - val_accuracy: 0.8610\n",
            "Epoch 2/50\n",
            "1080/1080 [==============================] - 19s 17ms/step - loss: 0.4176 - accuracy: 0.8488 - val_loss: 0.3170 - val_accuracy: 0.8757\n",
            "Epoch 3/50\n",
            "1080/1080 [==============================] - 19s 18ms/step - loss: 0.3684 - accuracy: 0.8671 - val_loss: 0.2847 - val_accuracy: 0.8920\n",
            "Epoch 4/50\n",
            "1080/1080 [==============================] - 19s 18ms/step - loss: 0.3375 - accuracy: 0.8772 - val_loss: 0.2703 - val_accuracy: 0.8995\n",
            "Epoch 5/50\n",
            "1080/1080 [==============================] - 19s 18ms/step - loss: 0.3188 - accuracy: 0.8859 - val_loss: 0.2618 - val_accuracy: 0.9033\n",
            "Epoch 6/50\n",
            "1080/1080 [==============================] - 19s 18ms/step - loss: 0.3010 - accuracy: 0.8902 - val_loss: 0.2442 - val_accuracy: 0.9048\n",
            "Epoch 7/50\n",
            "1080/1080 [==============================] - 19s 17ms/step - loss: 0.2891 - accuracy: 0.8958 - val_loss: 0.2493 - val_accuracy: 0.9055\n",
            "Epoch 8/50\n",
            "1080/1080 [==============================] - 19s 17ms/step - loss: 0.2841 - accuracy: 0.8961 - val_loss: 0.2401 - val_accuracy: 0.9080\n",
            "Epoch 9/50\n",
            "1080/1080 [==============================] - 19s 17ms/step - loss: 0.2732 - accuracy: 0.8994 - val_loss: 0.2413 - val_accuracy: 0.9113\n",
            "Epoch 10/50\n",
            "1080/1080 [==============================] - 19s 17ms/step - loss: 0.2690 - accuracy: 0.9029 - val_loss: 0.2379 - val_accuracy: 0.9103\n",
            "Epoch 11/50\n",
            "1080/1080 [==============================] - 19s 18ms/step - loss: 0.2603 - accuracy: 0.9034 - val_loss: 0.2542 - val_accuracy: 0.9043\n",
            "Epoch 12/50\n",
            "1080/1080 [==============================] - 19s 18ms/step - loss: 0.2540 - accuracy: 0.9068 - val_loss: 0.2441 - val_accuracy: 0.9103\n",
            "Epoch 13/50\n",
            "1080/1080 [==============================] - 19s 17ms/step - loss: 0.2493 - accuracy: 0.9088 - val_loss: 0.2623 - val_accuracy: 0.8988\n",
            "Epoch 14/50\n",
            "1080/1080 [==============================] - 19s 17ms/step - loss: 0.2425 - accuracy: 0.9106 - val_loss: 0.2510 - val_accuracy: 0.9107\n",
            "Epoch 15/50\n",
            "1080/1080 [==============================] - 19s 18ms/step - loss: 0.2415 - accuracy: 0.9109 - val_loss: 0.2267 - val_accuracy: 0.9150\n",
            "Epoch 16/50\n",
            "1080/1080 [==============================] - 19s 18ms/step - loss: 0.2337 - accuracy: 0.9119 - val_loss: 0.2408 - val_accuracy: 0.9167\n",
            "Epoch 17/50\n",
            "1080/1080 [==============================] - 19s 17ms/step - loss: 0.2296 - accuracy: 0.9147 - val_loss: 0.2121 - val_accuracy: 0.9208\n",
            "Epoch 18/50\n",
            "1080/1080 [==============================] - 19s 17ms/step - loss: 0.2274 - accuracy: 0.9153 - val_loss: 0.2305 - val_accuracy: 0.9173\n",
            "Epoch 19/50\n",
            "1080/1080 [==============================] - 19s 17ms/step - loss: 0.2247 - accuracy: 0.9151 - val_loss: 0.2228 - val_accuracy: 0.9153\n",
            "Epoch 20/50\n",
            "1080/1080 [==============================] - 19s 18ms/step - loss: 0.2225 - accuracy: 0.9188 - val_loss: 0.2298 - val_accuracy: 0.9167\n",
            "Epoch 21/50\n",
            "1080/1080 [==============================] - 19s 18ms/step - loss: 0.2212 - accuracy: 0.9178 - val_loss: 0.2272 - val_accuracy: 0.9167\n",
            "Epoch 22/50\n",
            "1080/1080 [==============================] - 20s 18ms/step - loss: 0.2165 - accuracy: 0.9199 - val_loss: 0.2221 - val_accuracy: 0.9172\n",
            "Epoch 23/50\n",
            "1080/1080 [==============================] - 19s 18ms/step - loss: 0.2157 - accuracy: 0.9205 - val_loss: 0.2118 - val_accuracy: 0.9218\n",
            "Epoch 24/50\n",
            "1080/1080 [==============================] - 19s 17ms/step - loss: 0.2142 - accuracy: 0.9207 - val_loss: 0.2056 - val_accuracy: 0.9233\n",
            "Epoch 25/50\n",
            "1080/1080 [==============================] - 19s 18ms/step - loss: 0.2125 - accuracy: 0.9214 - val_loss: 0.2141 - val_accuracy: 0.9185\n",
            "Epoch 26/50\n",
            "1080/1080 [==============================] - 19s 17ms/step - loss: 0.2094 - accuracy: 0.9215 - val_loss: 0.2091 - val_accuracy: 0.9228\n",
            "Epoch 27/50\n",
            "1080/1080 [==============================] - 18s 17ms/step - loss: 0.2063 - accuracy: 0.9230 - val_loss: 0.2082 - val_accuracy: 0.9243\n",
            "Epoch 28/50\n",
            "1080/1080 [==============================] - 18s 17ms/step - loss: 0.2039 - accuracy: 0.9243 - val_loss: 0.2042 - val_accuracy: 0.9240\n",
            "Epoch 29/50\n",
            "1080/1080 [==============================] - 18s 17ms/step - loss: 0.2045 - accuracy: 0.9227 - val_loss: 0.2420 - val_accuracy: 0.9148\n",
            "Epoch 30/50\n",
            "1080/1080 [==============================] - 19s 17ms/step - loss: 0.2030 - accuracy: 0.9260 - val_loss: 0.2266 - val_accuracy: 0.9145\n",
            "Epoch 31/50\n",
            "1080/1080 [==============================] - 19s 17ms/step - loss: 0.1989 - accuracy: 0.9263 - val_loss: 0.2118 - val_accuracy: 0.9233\n",
            "Epoch 32/50\n",
            "1080/1080 [==============================] - 19s 17ms/step - loss: 0.1950 - accuracy: 0.9262 - val_loss: 0.2114 - val_accuracy: 0.9238\n",
            "Epoch 33/50\n",
            "1080/1080 [==============================] - 19s 17ms/step - loss: 0.1952 - accuracy: 0.9271 - val_loss: 0.2162 - val_accuracy: 0.9248\n",
            "Epoch 34/50\n",
            "1080/1080 [==============================] - 18s 17ms/step - loss: 0.1935 - accuracy: 0.9281 - val_loss: 0.2218 - val_accuracy: 0.9240\n",
            "Epoch 35/50\n",
            "1080/1080 [==============================] - 18s 17ms/step - loss: 0.1916 - accuracy: 0.9276 - val_loss: 0.2105 - val_accuracy: 0.9222\n",
            "Epoch 36/50\n",
            "1080/1080 [==============================] - 19s 18ms/step - loss: 0.1880 - accuracy: 0.9286 - val_loss: 0.2263 - val_accuracy: 0.9227\n",
            "Epoch 37/50\n",
            "1080/1080 [==============================] - 19s 17ms/step - loss: 0.1888 - accuracy: 0.9275 - val_loss: 0.2175 - val_accuracy: 0.9212\n",
            "Epoch 38/50\n",
            "1080/1080 [==============================] - 19s 18ms/step - loss: 0.1860 - accuracy: 0.9292 - val_loss: 0.2106 - val_accuracy: 0.9237\n",
            "Epoch 39/50\n",
            "1080/1080 [==============================] - 19s 17ms/step - loss: 0.1855 - accuracy: 0.9300 - val_loss: 0.2178 - val_accuracy: 0.9195\n",
            "Epoch 40/50\n",
            "1080/1080 [==============================] - 19s 17ms/step - loss: 0.1811 - accuracy: 0.9311 - val_loss: 0.2045 - val_accuracy: 0.9275\n",
            "Epoch 41/50\n",
            "1080/1080 [==============================] - 18s 17ms/step - loss: 0.1844 - accuracy: 0.9294 - val_loss: 0.2115 - val_accuracy: 0.9242\n",
            "Epoch 42/50\n",
            "1080/1080 [==============================] - 18s 17ms/step - loss: 0.1771 - accuracy: 0.9330 - val_loss: 0.2109 - val_accuracy: 0.9245\n",
            "Epoch 43/50\n",
            "1080/1080 [==============================] - 18s 17ms/step - loss: 0.1810 - accuracy: 0.9314 - val_loss: 0.2252 - val_accuracy: 0.9228\n",
            "Epoch 44/50\n",
            "1080/1080 [==============================] - 18s 17ms/step - loss: 0.1804 - accuracy: 0.9324 - val_loss: 0.2151 - val_accuracy: 0.9193\n",
            "Epoch 45/50\n",
            "1080/1080 [==============================] - 18s 17ms/step - loss: 0.1816 - accuracy: 0.9311 - val_loss: 0.2065 - val_accuracy: 0.9222\n",
            "Epoch 46/50\n",
            "1080/1080 [==============================] - 18s 17ms/step - loss: 0.1790 - accuracy: 0.9329 - val_loss: 0.2123 - val_accuracy: 0.9213\n",
            "Epoch 47/50\n",
            "1080/1080 [==============================] - 18s 17ms/step - loss: 0.1734 - accuracy: 0.9343 - val_loss: 0.2154 - val_accuracy: 0.9253\n",
            "Epoch 48/50\n",
            "1080/1080 [==============================] - 18s 17ms/step - loss: 0.1715 - accuracy: 0.9347 - val_loss: 0.2033 - val_accuracy: 0.9233\n",
            "Epoch 49/50\n",
            "1080/1080 [==============================] - 18s 17ms/step - loss: 0.1730 - accuracy: 0.9348 - val_loss: 0.2193 - val_accuracy: 0.9240\n",
            "Epoch 50/50\n",
            "1080/1080 [==============================] - 19s 17ms/step - loss: 0.1721 - accuracy: 0.9351 - val_loss: 0.2159 - val_accuracy: 0.9250\n"
          ],
          "name": "stdout"
        }
      ]
    },
    {
      "cell_type": "markdown",
      "metadata": {
        "id": "OecMsX0NCqCN",
        "colab_type": "text"
      },
      "source": [
        "### 4. 訓練成果"
      ]
    },
    {
      "cell_type": "code",
      "metadata": {
        "id": "h8Xw7rf4CqCO",
        "colab_type": "code",
        "colab": {}
      },
      "source": [
        "def show_train_history(train_history, train, validation):\n",
        "    plt.plot(train_history.history[train], color = 'r', label = 'train_' + train)\n",
        "    plt.plot(train_history.history[validation], color = 'g', label = validation)\n",
        "    plt.title(\"Train History\")\n",
        "    plt.ylabel(train)\n",
        "    plt.xlabel('Epoch')\n",
        "    plt.legend()\n",
        "    plt.show()"
      ],
      "execution_count": 0,
      "outputs": []
    },
    {
      "cell_type": "code",
      "metadata": {
        "id": "qVZWxY_oCqCR",
        "colab_type": "code",
        "outputId": "dfb4412d-9cd0-43b0-8993-ea7f8b09590f",
        "colab": {
          "base_uri": "https://localhost:8080/",
          "height": 295
        }
      },
      "source": [
        "show_train_history(train_history, \"accuracy\", \"val_accuracy\")"
      ],
      "execution_count": 0,
      "outputs": [
        {
          "output_type": "display_data",
          "data": {
            "image/png": "[encoded data removed]",
            "text/plain": [
              "<Figure size 432x288 with 1 Axes>"
            ]
          },
          "metadata": {
            "tags": []
          }
        }
      ]
    },
    {
      "cell_type": "code",
      "metadata": {
        "id": "Ze7p5aCUCqCT",
        "colab_type": "code",
        "outputId": "1e5f9a53-d1e7-47d3-a5d9-0225ee3302bb",
        "colab": {
          "base_uri": "https://localhost:8080/",
          "height": 295
        }
      },
      "source": [
        "show_train_history(train_history, \"loss\", \"val_loss\")"
      ],
      "execution_count": 0,
      "outputs": [
        {
          "output_type": "display_data",
          "data": {
            "image/png": "[encoded data removed]",
            "text/plain": [
              "<Figure size 432x288 with 1 Axes>"
            ]
          },
          "metadata": {
            "tags": []
          }
        }
      ]
    },
    {
      "cell_type": "code",
      "metadata": {
        "id": "OhYsCh6pCqCb",
        "colab_type": "code",
        "outputId": "77f393ac-a113-4e2d-e7eb-d2eb7f75acff",
        "colab": {
          "base_uri": "https://localhost:8080/",
          "height": 34
        }
      },
      "source": [
        "scores = model_tpu.evaluate(x_test, y_test)"
      ],
      "execution_count": 0,
      "outputs": [
        {
          "output_type": "stream",
          "text": [
            "313/313 [==============================] - 2s 7ms/step - loss: 0.2235 - accuracy: 0.9193\n"
          ],
          "name": "stdout"
        }
      ]
    },
    {
      "cell_type": "code",
      "metadata": {
        "id": "QZdvdtRICqCe",
        "colab_type": "code",
        "outputId": "2b406d64-55c7-4c06-cc46-4a78f59a1429",
        "colab": {
          "base_uri": "https://localhost:8080/",
          "height": 34
        }
      },
      "source": [
        "print(\"Accuracy: {}%\".format(scores[1]*100))"
      ],
      "execution_count": 0,
      "outputs": [
        {
          "output_type": "stream",
          "text": [
            "Accuracy: 91.93000197410583%\n"
          ],
          "name": "stdout"
        }
      ]
    },
    {
      "cell_type": "markdown",
      "metadata": {
        "id": "oAUSn-_BCqCk",
        "colab_type": "text"
      },
      "source": [
        "### 5. 做的改變\n",
        "1. 增加BatchNormalization層\n",
        "2. 增加Dropout層\n",
        "3. optimizer改成adam\n",
        "4. loss改成categorical_crossentropy\n",
        "5. 更改許多層的神經元數目"
      ]
    },
    {
      "cell_type": "code",
      "metadata": {
        "id": "txwVisqFCqCl",
        "colab_type": "code",
        "colab": {}
      },
      "source": [
        "\n"
      ],
      "execution_count": 0,
      "outputs": []
    }
  ]
}