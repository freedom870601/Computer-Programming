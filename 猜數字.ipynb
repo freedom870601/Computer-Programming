{
 "cells": [
  {
   "cell_type": "code",
   "execution_count": 124,
   "metadata": {},
   "outputs": [],
   "source": [
    "from tkinter import *\n",
    "import random"
   ]
  },
  {
   "cell_type": "code",
   "execution_count": 125,
   "metadata": {},
   "outputs": [],
   "source": [
    "def cal_similar(list1, list2):\n",
    "    list1_set = set(list1)\n",
    "    list2_set = set(list2)\n",
    "    result = len(list1_set & list2_set) #intersection\n",
    "    return result"
   ]
  },
  {
   "cell_type": "code",
   "execution_count": 123,
   "metadata": {},
   "outputs": [],
   "source": [
    "master = Tk()\n",
    "master.title('1A2B')\n",
    "#master.geometry('800x600')\n",
    "master.configure(background='white')\n",
    "\n",
    "def generate_topic():\n",
    "    global answer\n",
    "    topic = []\n",
    "    for i in range(1000, 9999):\n",
    "        if len(set(str(i))) == 4:\n",
    "            topic.append(i)\n",
    "    answer = topic[random.randint(0, len(topic))]\n",
    "\n",
    "def play():\n",
    "    guess = guess_entry.get()\n",
    "    guess_str = str(guess)\n",
    "    answer_str = str(answer)\n",
    "    A = 0\n",
    "    B = cal_similar(guess_str, answer_str)\n",
    "    for i in range(len(guess_str)):\n",
    "        if guess_str[i] == answer_str[i]:\n",
    "            A = A + 1\n",
    "            B = B - 1\n",
    "    result = '{}A {}B'.format(A, B)\n",
    "    result_label.configure(text=result)\n",
    "    \n",
    "header_label = Label(master, text='猜數字(1A2B)')\n",
    "header_label.pack()\n",
    "\n",
    "rule_label = Label(master, wraplength = 700, text = '一組四碼的數字作為謎底(數字不重複）。每猜一個數會給出提示，提示以XAYB形式呈現，直到猜中為止。其中X表示位置正確的數的個數，而Y表示數字正確而位置不對的數的個數。例如，當謎底為8123，而猜謎者猜1052時，出題者必須提示0A2B。例如，當謎底為5637，而猜謎者猜4931時，出題者必須提示1A0B。')\n",
    "rule_label.pack()\n",
    "\n",
    "new_btn = Button(master, text='新遊戲', command=generate_topic)\n",
    "new_btn.pack()\n",
    "\n",
    "guess_frame = Frame(master)\n",
    "# 向上對齊父元件\n",
    "guess_frame.pack(side=TOP)\n",
    "guess_label = Label(guess_frame, text='猜測值')\n",
    "guess_label.pack(side=LEFT)\n",
    "guess_entry = Entry(guess_frame)\n",
    "guess_entry.pack(side=LEFT)\n",
    "\n",
    "result_label = Label(master)\n",
    "result_label.pack()\n",
    "\n",
    "\n",
    "\n",
    "calculate_btn = Button(master, text='我猜', command=play)\n",
    "calculate_btn.pack()\n",
    "\n",
    "mainloop( )"
   ]
  }
 ],
 "metadata": {
  "kernelspec": {
   "display_name": "Python 3",
   "language": "python",
   "name": "python3"
  },
  "language_info": {
   "codemirror_mode": {
    "name": "ipython",
    "version": 2
   },
   "file_extension": ".py",
   "mimetype": "text/x-python",
   "name": "python",
   "nbconvert_exporter": "python",
   "pygments_lexer": "ipython2",
   "version": "2.7.15"
  }
 },
 "nbformat": 4,
 "nbformat_minor": 2
}
